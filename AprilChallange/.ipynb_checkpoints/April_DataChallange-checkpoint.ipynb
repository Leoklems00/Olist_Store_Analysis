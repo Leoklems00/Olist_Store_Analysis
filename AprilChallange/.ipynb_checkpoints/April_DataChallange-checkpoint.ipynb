{
 "cells": [
  {
   "cell_type": "markdown",
   "id": "ad32339a",
   "metadata": {},
   "source": [
    "# Olist Sales Analysis"
   ]
  },
  {
   "cell_type": "markdown",
   "id": "849f43e8",
   "metadata": {},
   "source": [
    "## Introduction\n",
    "\n",
    "Olist is a Brazilian e-commerce platform that connects small and medium-sized businesses to\n",
    "customers across Brazil. The platform operates as a marketplace, where merchants can list\n",
    "their products and services and customers can browse and purchase them online.\n",
    "\n",
    "The Olist sales dataset available on Kaggle is a collection of anonymized data about orders\n",
    "placed on the Olist platform between January 2017 and August 2018. It contains a wide range\n",
    "of information about each order, including the order date, product details, payment and shipping\n",
    "information, customer and seller IDs, and customer reviews. The dataset also includes\n",
    "information about the sellers who list their products on Olist, as well as data on customer\n",
    "behavior and demographics. The dataset is designed to help analysts and researchers better\n",
    "understand the e-commerce landscape in Brazil and identify opportunities for growth and\n",
    "optimization."
   ]
  },
  {
   "cell_type": "code",
   "execution_count": 1,
   "id": "467df10f",
   "metadata": {},
   "outputs": [],
   "source": [
    "import numpy as np\n",
    "import matplotlib.pyplot as plt\n",
    "import pandas as pd\n",
    "import seaborn as sns\n",
    "\n",
    "# plt.style.use('ggplot')"
   ]
  },
  {
   "cell_type": "markdown",
   "id": "5ec6b586",
   "metadata": {},
   "source": [
    "### Importing the data "
   ]
  },
  {
   "cell_type": "code",
   "execution_count": 2,
   "id": "74884045",
   "metadata": {
    "scrolled": true
   },
   "outputs": [],
   "source": [
    "customers = pd.read_csv('datasets/olist_customers_dataset.csv')\n",
    "orders = pd.read_csv('datasets/olist_orders_dataset.csv')\n",
    "order_items = pd.read_csv('datasets/olist_order_items_dataset.csv')\n",
    "order_payments = pd.read_csv('datasets/olist_order_payments_dataset.csv')\n",
    "order_reviews = pd.read_csv('datasets/olist_order_reviews_dataset.csv')\n",
    "products = pd.read_csv('datasets/olist_products_dataset.csv')\n",
    "geolocation = pd.read_csv('datasets/olist_geolocation_dataset.csv')\n",
    "sellers = pd.read_csv('datasets/olist_sellers_dataset.csv')\n",
    "category_name = pd.read_csv('datasets/product_category_name_translation.csv')"
   ]
  },
  {
   "cell_type": "markdown",
   "id": "834dfef8",
   "metadata": {},
   "source": [
    "### Data Preparation"
   ]
  },
  {
   "cell_type": "code",
   "execution_count": 3,
   "id": "fbdaf9a3",
   "metadata": {},
   "outputs": [],
   "source": [
    "orders.order_purchase_timestamp = pd.to_datetime(orders.order_purchase_timestamp)\n",
    "orders.order_approved_at = pd.to_datetime(orders.order_approved_at)\n",
    "orders.order_delivered_customer_date = pd.to_datetime(orders.order_delivered_customer_date)\n",
    "orders.order_estimated_delivery_date = pd.to_datetime(orders.order_estimated_delivery_date)\n",
    "order_items.shipping_limit_date = pd.to_datetime(order_items.shipping_limit_date)\n",
    "order_reviews.review_creation_date = pd.to_datetime(order_reviews.review_creation_date)\n",
    "order_reviews.review_answer_timestamp   = pd.to_datetime(order_reviews.review_answer_timestamp  )"
   ]
  },
  {
   "cell_type": "code",
   "execution_count": 4,
   "id": "d509a350",
   "metadata": {},
   "outputs": [],
   "source": [
    "# CREATING A YEAR AND MONTH COLUMN FROM A TIMESTAMP COLUMN\n",
    "orders['year'] = orders.order_purchase_timestamp.dt.year.astype('int')\n",
    "orders['month'] = orders.order_purchase_timestamp.dt.month\n",
    "# SELECTING ONLY THE RELEVANT COLUMNS FOR USE IN ANALYSIS\n",
    "orders = orders[['order_id','customer_id','order_status','year', 'month']]\n",
    "order_items['amount'] = order_items.freight_value + order_items.price\n",
    "order_items = order_items[['order_id','product_id','seller_id', 'amount']]\n",
    "order_payments = order_payments[['order_id','payment_type', 'payment_value']]\n",
    "order_reviews = order_reviews[['order_id', 'review_score']]\n",
    "# LIMITING ANALYSIS TO ONLY ORDERES BETWEEN 2017 & 2018\n",
    "orders =orders[(orders.year >= 2017) & (orders.year <= 2018)]\n",
    "# CREATING A NEW TABLE FOR CANCLED AND UNAVAILABLE ORDERS ONLY\n",
    "orders_ =orders[(orders.order_status != \"canceled\") & (orders.order_status != \"unavailable\")]"
   ]
  },
  {
   "cell_type": "code",
   "execution_count": 5,
   "id": "9dbbf370",
   "metadata": {
    "scrolled": true
   },
   "outputs": [],
   "source": [
    "# JOINING THE PRODUCT AND CATEGORY TABLE AND SELECTING RELEVANT COLUMN FORTHE ANALYSIS\n",
    "products = products.merge(category_name, on='product_category_name', how = 'left')\n",
    "products = products[['product_id', 'product_category_name_english']]"
   ]
  },
  {
   "cell_type": "markdown",
   "id": "281b27b6",
   "metadata": {},
   "source": [
    "## 1: What is the total revenue generated by Olist, and how has it changed over time?"
   ]
  },
  {
   "cell_type": "code",
   "execution_count": 6,
   "id": "223a5340",
   "metadata": {},
   "outputs": [],
   "source": [
    "# JOINING ORDERS TO PAYMENT SO AS TO ACCESS INCOME\n",
    "order_payment = (orders_.merge(order_payments, on = 'order_id', how = 'left'))"
   ]
  },
  {
   "cell_type": "code",
   "execution_count": 7,
   "id": "48f64f0d",
   "metadata": {},
   "outputs": [],
   "source": [
    "#order_items_payment['Duplicated'] = order_items_payment.order_id.duplicated()\n",
    "#order_items_payment"
   ]
  },
  {
   "cell_type": "code",
   "execution_count": 8,
   "id": "e4191a1a",
   "metadata": {
    "scrolled": true
   },
   "outputs": [
    {
     "data": {
      "text/plain": [
       "15687324"
      ]
     },
     "execution_count": 8,
     "metadata": {},
     "output_type": "execute_result"
    }
   ],
   "source": [
    "total_revenue = order_payment[order_payment.payment_value != np.nan].payment_value.sum()\n",
    "round(total_revenue)"
   ]
  },
  {
   "cell_type": "code",
   "execution_count": 9,
   "id": "da94c15c",
   "metadata": {
    "scrolled": false
   },
   "outputs": [],
   "source": [
    "order_payment_by_month = order_payment.groupby(['year', 'month']).agg(amount = (\"payment_value\",'sum'))\n",
    "month_order = ['','Jan', 'Feb', 'Mar', 'Apr', 'May', 'Jun', 'Jul', 'Agu', 'Sep', 'Oct', 'Nov', 'Dec']"
   ]
  },
  {
   "cell_type": "code",
   "execution_count": 10,
   "id": "28f7e0d1",
   "metadata": {},
   "outputs": [
    {
     "data": {
      "text/plain": [
       "Text(2, 400000.0, '2017')"
      ]
     },
     "execution_count": 10,
     "metadata": {},
     "output_type": "execute_result"
    },
    {
     "data": {
      "image/png": "[encoded data removed]",
      "text/plain": [
       "<Figure size 720x288 with 1 Axes>"
      ]
     },
     "metadata": {
      "needs_background": "light"
     },
     "output_type": "display_data"
    }
   ],
   "source": [
    "order_payment_by_month2 = order_payment_by_month.reset_index()\n",
    "fig, ax = plt.subplots(figsize=(10, 4))\n",
    "for year, color in zip([2017, 2018],['gray', 'green']):\n",
    "    global ax\n",
    "    year_data = order_payment_by_month2[order_payment_by_month2.year == year]\n",
    "    ax.plot(year_data.month, year_data.amount, color=color)\n",
    "\n",
    "ax.set_xticks(np.arange(0, 13))\n",
    "ax.set_xticklabels(month_order)\n",
    "ax.set_ylabel(\"Revenue in milions\", fontsize=10)\n",
    "ax.set_title(\"Need to investigate revenue fluctuation in 2018\", fontsize=15)\n",
    "ax.spines['top'].set_visible(False)\n",
    "# ax.spines['bottom'].set_visible(False)\n",
    "# ax.spines['left'].set_visible(False)\n",
    "ax.spines['right'].set_visible(False)\n",
    "\n",
    "ax.text(2,1.1e6, \"2018\")\n",
    "ax.text(2,0.4e6, \"2017\")\n",
    "\n",
    "# ax.legend()"
   ]
  },
  {
   "cell_type": "markdown",
   "id": "9271f287",
   "metadata": {},
   "source": [
    "### Insight\n",
    "\n",
    "Monthly revenue increased in 2017 untill November when it reached its peak, then it started fluctuating. The reason for the subsequent fluctuation should be investigated."
   ]
  },
  {
   "cell_type": "markdown",
   "id": "9c9aceb8",
   "metadata": {},
   "source": [
    "## 2: How many orders were placed on Olist, and how does this vary by month or season?"
   ]
  },
  {
   "cell_type": "code",
   "execution_count": 11,
   "id": "48cb28db",
   "metadata": {},
   "outputs": [
    {
     "data": {
      "text/plain": [
       "99112"
      ]
     },
     "execution_count": 11,
     "metadata": {},
     "output_type": "execute_result"
    }
   ],
   "source": [
    "order_count_total = orders.order_id.count()\n",
    "order_count_total"
   ]
  },
  {
   "cell_type": "code",
   "execution_count": 12,
   "id": "063708dc",
   "metadata": {
    "scrolled": true
   },
   "outputs": [],
   "source": [
    "order_count = orders.groupby([(orders.year),(orders.month)]).agg(No_of_orders = (\"order_id\",'count'))"
   ]
  },
  {
   "cell_type": "code",
   "execution_count": 13,
   "id": "d1f6b13b",
   "metadata": {},
   "outputs": [
    {
     "data": {
      "text/plain": [
       "Text(2, 2500, '2017')"
      ]
     },
     "execution_count": 13,
     "metadata": {},
     "output_type": "execute_result"
    },
    {
     "data": {
      "image/png": "[encoded data removed]",
      "text/plain": [
       "<Figure size 720x288 with 1 Axes>"
      ]
     },
     "metadata": {
      "needs_background": "light"
     },
     "output_type": "display_data"
    }
   ],
   "source": [
    "order_count_ = order_count.reset_index()\n",
    "fig, ax = plt.subplots(figsize=(10, 4))\n",
    "for year, color in zip([2017, 2018],['gray', 'green']):\n",
    "    global ax\n",
    "    year_data = order_count_[order_count_.year == year]\n",
    "    ax.plot(year_data.month, year_data.No_of_orders, color=color)\n",
    "\n",
    "ax.set_xticks(np.arange(0, 13))\n",
    "ax.set_xticklabels(month_order)\n",
    "ax.set_ylabel(\"Number od Orders\", fontsize=10)\n",
    "ax.set_title(\"Need to investigate Sales Volumn fluctuation in 2018\", fontsize=15)\n",
    "ax.spines['top'].set_visible(False)\n",
    "# ax.spines['bottom'].set_visible(False)\n",
    "# ax.spines['left'].set_visible(False)\n",
    "ax.spines['right'].set_visible(False)\n",
    "\n",
    "ax.text(2,7000, \"2018\")\n",
    "ax.text(2,2500, \"2017\")\n",
    "\n",
    "# ax.legend()"
   ]
  },
  {
   "cell_type": "markdown",
   "id": "a466a300",
   "metadata": {},
   "source": [
    "### Insight\n",
    "\n",
    "Just like the monthly revenue, the sales volume increased up to a peak at november 2017 then started fluctuation. the reason for this fluctuation shoulde be checked."
   ]
  },
  {
   "cell_type": "markdown",
   "id": "975091a9",
   "metadata": {},
   "source": [
    "## 3: What are the most popular product categories on Olist, and how do their sales volumes compare to each other?"
   ]
  },
  {
   "cell_type": "code",
   "execution_count": 14,
   "id": "9dda57c2",
   "metadata": {
    "scrolled": true
   },
   "outputs": [],
   "source": [
    "#  JOINING PRODUCTS TO ORDERS AND PAYMENTS TO GET COST ASSOCIATED WITH PURCHASE OF A PRODUCT\n",
    "order_items_product = orders.merge(order_items, on = 'order_id', how = 'left').merge(products, on = 'product_id')"
   ]
  },
  {
   "cell_type": "code",
   "execution_count": 15,
   "id": "cc92ad92",
   "metadata": {
    "scrolled": true
   },
   "outputs": [],
   "source": [
    "# GROUP AND SORT TO SHOW THE TOP PRODUCTS AND THEIR SALES VOLUME\n",
    "order_category_count = order_items_product.groupby('product_category_name_english').\\\n",
    "agg(sales_volume = (\"product_id\",'count')).sort_values('sales_volume', ascending=False)"
   ]
  },
  {
   "cell_type": "code",
   "execution_count": 16,
   "id": "8ea2f5b8",
   "metadata": {},
   "outputs": [
    {
     "data": {
      "image/png": "[encoded data removed]",
      "text/plain": [
       "<Figure size 720x288 with 1 Axes>"
      ]
     },
     "metadata": {
      "needs_background": "light"
     },
     "output_type": "display_data"
    }
   ],
   "source": [
    "order_category_count_ = order_category_count.sort_values('sales_volume', ascending=True).head(10)\n",
    "order_category_count_top = order_category_count_.head(5)\n",
    "order_category_count_last = order_category_count_.tail(5)\n",
    "fig, ax = plt.subplots(figsize=(10, 4))\n",
    "# for year, color in zip([2017, 2018],['gray', 'green']):\n",
    "#     global ax\n",
    "#     year_data = order_count_[order_count_.year == year]\n",
    "#     ax.barh(year_data.month, year_data.No_of_orders, color=color)\n",
    "\n",
    "ax.barh(order_category_count_top.index, order_category_count_top.sales_volume, color=\"gray\")\n",
    "ax.barh(order_category_count_last.index, order_category_count_last.sales_volume, color=\"green\")\n",
    "# ax.set_xticks(np.arange(0, 13))\n",
    "# ax.set_xticklabels(month_order)\n",
    "ax.set_xlabel(\"Sales Volume\", fontsize=10)\n",
    "ax.set_title(\"Top Selling product categories\", fontsize=15)\n",
    "ax.spines['top'].set_visible(False)\n",
    "# ax.spines['bottom'].set_visible(False)\n",
    "ax.spines['left'].set_visible(False)\n",
    "ax.spines['right'].set_visible(False)\n",
    "\n",
    "# ax.text(2,7000, \"2018\")\n",
    "# ax.text(2,2500, \"2017\")\n",
    "\n",
    "# ax.legend()"
   ]
  },
  {
   "cell_type": "markdown",
   "id": "d4ac616d",
   "metadata": {},
   "source": [
    "### Insight\n",
    "\n",
    "While the top selling product categories bed_bath_table, health_beauty, sports shoud attract more investment, there should be an investigation as to why some other low performing products are so."
   ]
  },
  {
   "cell_type": "markdown",
   "id": "6ab81463",
   "metadata": {},
   "source": [
    "## 4: What is the average order value (AOV) on Olist, and how does this vary by product category or payment method?\n"
   ]
  },
  {
   "cell_type": "markdown",
   "id": "eb1b0053",
   "metadata": {},
   "source": [
    "Average Order Value is a measure of the average amount made anytime an order is placed over the given period. Its formula is Revenue divided by number of orders"
   ]
  },
  {
   "cell_type": "code",
   "execution_count": 17,
   "id": "5a36a177",
   "metadata": {},
   "outputs": [
    {
     "data": {
      "text/plain": [
       "140.64"
      ]
     },
     "execution_count": 17,
     "metadata": {},
     "output_type": "execute_result"
    }
   ],
   "source": [
    "a_o_v = round(order_items.amount.mean(), 2)\n",
    "a_o_v"
   ]
  },
  {
   "cell_type": "code",
   "execution_count": 18,
   "id": "f45ea24d",
   "metadata": {},
   "outputs": [],
   "source": [
    "# COMBINE THE ORDERS, ITEMS, PRODUCTS AND PAYMENTS TABLES SO AS TO HAVE ALL RELEVANT DATA\n",
    "order_items_product_payment = order_items_product.merge(order_payments, on = 'order_id')"
   ]
  },
  {
   "cell_type": "code",
   "execution_count": 19,
   "id": "ef1339b8",
   "metadata": {},
   "outputs": [
    {
     "data": {
      "text/html": [
       "<div>\n",
       "<style scoped>\n",
       "    .dataframe tbody tr th:only-of-type {\n",
       "        vertical-align: middle;\n",
       "    }\n",
       "\n",
       "    .dataframe tbody tr th {\n",
       "        vertical-align: top;\n",
       "    }\n",
       "\n",
       "    .dataframe thead th {\n",
       "        text-align: right;\n",
       "    }\n",
       "</style>\n",
       "<table border=\"1\" class=\"dataframe\">\n",
       "  <thead>\n",
       "    <tr style=\"text-align: right;\">\n",
       "      <th></th>\n",
       "      <th>AOV</th>\n",
       "    </tr>\n",
       "    <tr>\n",
       "      <th>product_category_name_english</th>\n",
       "      <th></th>\n",
       "    </tr>\n",
       "  </thead>\n",
       "  <tbody>\n",
       "    <tr>\n",
       "      <th>computers</th>\n",
       "      <td>1146.795222</td>\n",
       "    </tr>\n",
       "    <tr>\n",
       "      <th>small_appliances_home_oven_and_coffee</th>\n",
       "      <td>660.441711</td>\n",
       "    </tr>\n",
       "    <tr>\n",
       "      <th>home_appliances_2</th>\n",
       "      <td>520.663529</td>\n",
       "    </tr>\n",
       "    <tr>\n",
       "      <th>agro_industry_and_commerce</th>\n",
       "      <td>369.689009</td>\n",
       "    </tr>\n",
       "    <tr>\n",
       "      <th>musical_instruments</th>\n",
       "      <td>309.025544</td>\n",
       "    </tr>\n",
       "    <tr>\n",
       "      <th>small_appliances</th>\n",
       "      <td>304.372356</td>\n",
       "    </tr>\n",
       "    <tr>\n",
       "      <th>fixed_telephony</th>\n",
       "      <td>244.966641</td>\n",
       "    </tr>\n",
       "    <tr>\n",
       "      <th>construction_tools_safety</th>\n",
       "      <td>229.193918</td>\n",
       "    </tr>\n",
       "    <tr>\n",
       "      <th>furniture_bedroom</th>\n",
       "      <td>226.247798</td>\n",
       "    </tr>\n",
       "    <tr>\n",
       "      <th>watches_gifts</th>\n",
       "      <td>217.519808</td>\n",
       "    </tr>\n",
       "  </tbody>\n",
       "</table>\n",
       "</div>"
      ],
      "text/plain": [
       "                                               AOV\n",
       "product_category_name_english                     \n",
       "computers                              1146.795222\n",
       "small_appliances_home_oven_and_coffee   660.441711\n",
       "home_appliances_2                       520.663529\n",
       "agro_industry_and_commerce              369.689009\n",
       "musical_instruments                     309.025544\n",
       "small_appliances                        304.372356\n",
       "fixed_telephony                         244.966641\n",
       "construction_tools_safety               229.193918\n",
       "furniture_bedroom                       226.247798\n",
       "watches_gifts                           217.519808"
      ]
     },
     "execution_count": 19,
     "metadata": {},
     "output_type": "execute_result"
    }
   ],
   "source": [
    "a_o_v_product_cat = order_items_product.groupby('product_category_name_english').\\\n",
    "agg(AOV = (\"amount\", 'mean'))\n",
    "# TOP 10 PRODUCT CATEGORIES BY AOV\n",
    "a_o_v_product_cat.sort_values('AOV', ascending=False).head(10)"
   ]
  },
  {
   "cell_type": "code",
   "execution_count": 20,
   "id": "bc821f35",
   "metadata": {
    "scrolled": true
   },
   "outputs": [
    {
     "data": {
      "text/html": [
       "<div>\n",
       "<style scoped>\n",
       "    .dataframe tbody tr th:only-of-type {\n",
       "        vertical-align: middle;\n",
       "    }\n",
       "\n",
       "    .dataframe tbody tr th {\n",
       "        vertical-align: top;\n",
       "    }\n",
       "\n",
       "    .dataframe thead th {\n",
       "        text-align: right;\n",
       "    }\n",
       "</style>\n",
       "<table border=\"1\" class=\"dataframe\">\n",
       "  <thead>\n",
       "    <tr style=\"text-align: right;\">\n",
       "      <th></th>\n",
       "      <th>AOV</th>\n",
       "    </tr>\n",
       "    <tr>\n",
       "      <th>payment_type</th>\n",
       "      <th></th>\n",
       "    </tr>\n",
       "  </thead>\n",
       "  <tbody>\n",
       "    <tr>\n",
       "      <th>boleto</th>\n",
       "      <td>124.283390</td>\n",
       "    </tr>\n",
       "    <tr>\n",
       "      <th>credit_card</th>\n",
       "      <td>146.583844</td>\n",
       "    </tr>\n",
       "    <tr>\n",
       "      <th>debit_card</th>\n",
       "      <td>127.332747</td>\n",
       "    </tr>\n",
       "    <tr>\n",
       "      <th>voucher</th>\n",
       "      <td>125.257441</td>\n",
       "    </tr>\n",
       "  </tbody>\n",
       "</table>\n",
       "</div>"
      ],
      "text/plain": [
       "                     AOV\n",
       "payment_type            \n",
       "boleto        124.283390\n",
       "credit_card   146.583844\n",
       "debit_card    127.332747\n",
       "voucher       125.257441"
      ]
     },
     "execution_count": 20,
     "metadata": {},
     "output_type": "execute_result"
    }
   ],
   "source": [
    "a_o_v_payment_method = order_items_product_payment.groupby('payment_type').agg(AOV = (\"amount\", 'mean'))\n",
    "a_o_v_payment_method"
   ]
  },
  {
   "cell_type": "markdown",
   "id": "01fd0c04",
   "metadata": {},
   "source": [
    "### Insight\n",
    "\n",
    "It can be seen that price is one of the reasons for the low sales performance of some product categories given the AOV of Olist and since the product categories with high AOV do not have high sales volume. Therefor perhapse pricing stratagy of the top AOV products should be checked."
   ]
  },
  {
   "cell_type": "markdown",
   "id": "4d701e09",
   "metadata": {},
   "source": [
    "## 5: How many sellers are active on Olist, and how does this number change over time?"
   ]
  },
  {
   "cell_type": "code",
   "execution_count": 21,
   "id": "c992a599",
   "metadata": {},
   "outputs": [],
   "source": [
    "# COMBINE THE ORDERS AND SELLERS TABLE TO GET MORE DATE AND GIVE CONTEXT TO THE DATA\n",
    "seller_activity = orders.merge(order_items, on = 'order_id').merge(sellers, on = 'seller_id')"
   ]
  },
  {
   "cell_type": "code",
   "execution_count": 22,
   "id": "bfb360d3",
   "metadata": {},
   "outputs": [
    {
     "data": {
      "text/plain": [
       "3068"
      ]
     },
     "execution_count": 22,
     "metadata": {},
     "output_type": "execute_result"
    }
   ],
   "source": [
    "total_active_sellers = seller_activity.seller_id.nunique()\n",
    "total_active_sellers"
   ]
  },
  {
   "cell_type": "code",
   "execution_count": 23,
   "id": "50eaea88",
   "metadata": {
    "scrolled": true
   },
   "outputs": [],
   "source": [
    "active_seller_count_variation = seller_activity.groupby([(seller_activity.year),(seller_activity.month)]).\\\n",
    "agg(No_of_unique_sellers = (\"seller_id\",pd.Series.nunique))"
   ]
  },
  {
   "cell_type": "code",
   "execution_count": 24,
   "id": "3d32667c",
   "metadata": {},
   "outputs": [
    {
     "data": {
      "image/png": "[encoded data removed]",
      "text/plain": [
       "<Figure size 720x288 with 1 Axes>"
      ]
     },
     "metadata": {
      "needs_background": "light"
     },
     "output_type": "display_data"
    }
   ],
   "source": [
    "fig, ax = plt.subplots(figsize=(10, 4))\n",
    "active_seller_count_variation.plot(title=\"Increase in number of sellers over time\", xlabel=\"year, month\",\n",
    "                            ylabel=\"Count of Sellers\", colormap = 'turbo', ax = ax)\n",
    "ax.spines['top'].set_visible(False)\n",
    "# ax.spines['bottom'].set_visible(False)\n",
    "# ax.spines['left'].set_visible(False)\n",
    "ax.spines['right'].set_visible(False)"
   ]
  },
  {
   "cell_type": "markdown",
   "id": "bb458007",
   "metadata": {},
   "source": [
    "### Insight\n",
    "\n",
    "The number of active sellers increased over time almost constantly"
   ]
  },
  {
   "cell_type": "markdown",
   "id": "5476002e",
   "metadata": {},
   "source": [
    "## 6: What is the distribution of seller ratings on Olist, and how does this impact sales performance?"
   ]
  },
  {
   "cell_type": "code",
   "execution_count": 25,
   "id": "7a7cadb1",
   "metadata": {},
   "outputs": [],
   "source": [
    "#  COMBINE REVIEWS TABLE TO THE ACTIVE SELLERS TABLE TO HAVE MORE DATA\n",
    "seller_activity_reviews = seller_activity.merge(order_reviews, on = 'order_id', how = 'left')"
   ]
  },
  {
   "cell_type": "code",
   "execution_count": 26,
   "id": "b04a9e73",
   "metadata": {
    "scrolled": true
   },
   "outputs": [],
   "source": [
    "# CREATE A NEW DATAFRAME OF THE SELLER ACTIVITY REVIEW TABLE ON mean review_scores \n",
    "# GROUPED BY seller_id's THEN RESET THE INDEX\n",
    "seller_ratings_distribution = seller_activity_reviews.groupby('seller_id').\\\n",
    "review_score.mean().to_frame().\\\n",
    "reset_index().round({'review_score':0})\n",
    "# GROUP THE NEW DATAFRAME BY review_score ON seller_id COUNT\n",
    "seller_ratings_distribution = seller_ratings_distribution.groupby('review_score').\\\n",
    "agg(No_of_sellers = (\"seller_id\",'count'))"
   ]
  },
  {
   "cell_type": "code",
   "execution_count": 27,
   "id": "0eb9526a",
   "metadata": {},
   "outputs": [
    {
     "data": {
      "image/png": "[encoded data removed]",
      "text/plain": [
       "<Figure size 1080x288 with 2 Axes>"
      ]
     },
     "metadata": {
      "needs_background": "light"
     },
     "output_type": "display_data"
    }
   ],
   "source": [
    "fig, (ax1, ax2) = plt.subplots(1,2,figsize=(15, 4))\n",
    "seller_ratings_distribution_top = seller_ratings_distribution.tail(2)\n",
    "seller_ratings_distribution_last = seller_ratings_distribution.head(3)\n",
    "\n",
    "ax1.bar(seller_ratings_distribution_top.index, seller_ratings_distribution_top.No_of_sellers, color=\"green\")\n",
    "ax1.bar(seller_ratings_distribution_last.index, seller_ratings_distribution_last.No_of_sellers, color=\"gray\")\n",
    "\n",
    "ax1.set_ylabel(\"Count of Sellers\", fontsize=10)\n",
    "ax1.set_title(\"Most of the sellers were rated 4 then 5\", fontsize=15)\n",
    "ax1.spines['top'].set_visible(False)\n",
    "# ax.spines['bottom'].set_visible(False)\n",
    "ax1.spines['left'].set_visible(False)\n",
    "ax1.spines['right'].set_visible(False)\n",
    "\n",
    "#------------------------------------------------------------\n",
    "\n",
    "seller_activity_reviews_top = seller_activity_reviews.groupby('review_score').\\\n",
    "agg(No_of_sellers = (\"seller_id\",'count')).tail(1)\n",
    "seller_activity_reviews_last = seller_activity_reviews.groupby('review_score').'\n",
    "agg(No_of_sellers = (\"seller_id\",'count')).head(4)\n",
    "\n",
    "ax2.bar(seller_activity_reviews_top.index, seller_activity_reviews_top.No_of_sellers, color=\"green\")\n",
    "ax2.bar(seller_activity_reviews_last.index, seller_activity_reviews_last.No_of_sellers, color=\"gray\")\n",
    "\n",
    "ax2.set_ylabel(\"Count of Sellers\", fontsize=10)\n",
    "ax2.set_title(\"Most orders got a rating of 5\", fontsize=15)\n",
    "ax2.spines['top'].set_visible(False)\n",
    "# ax.spines['bottom'].set_visible(False)\n",
    "ax2.spines['left'].set_visible(False)\n",
    "ax2.spines['right'].set_visible(False)"
   ]
  },
  {
   "cell_type": "markdown",
   "id": "3eba20a3",
   "metadata": {},
   "source": [
    "### Insight\n",
    "\n",
    "The above visual shows that most of the sellers were rated 4 or 5 and too most of the sales were highly rated showing a generally good performance of the sellers at Olist."
   ]
  },
  {
   "cell_type": "markdown",
   "id": "43a5264f",
   "metadata": {},
   "source": [
    "## 7: How many customers have made repeat purchases on Olist, and what percentage of total sales do they account for?"
   ]
  },
  {
   "cell_type": "code",
   "execution_count": 28,
   "id": "76c138c2",
   "metadata": {},
   "outputs": [],
   "source": [
    "# Including the customer table so as to get more customer data\n",
    "df_with_customers = order_items_product_payment.merge(customers, on = \"customer_id\", how = \"left\")\n",
    "# Combine customer table with orders\n",
    "df_customers = orders.merge(customers, on = \"customer_id\", how = \"left\")"
   ]
  },
  {
   "cell_type": "code",
   "execution_count": 29,
   "id": "4692bf6a",
   "metadata": {},
   "outputs": [],
   "source": [
    "# Get unique customers grouped by count of orders\n",
    "unique_cust_count = df_customers.groupby('customer_unique_id').agg(count_ = ('order_id','count')).reset_index()\n",
    "# Get unique customers wih more than one orders\n",
    "unique_cust_count = unique_cust_count[unique_cust_count.count_ >1]\n",
    "unique_customers = unique_cust_count['customer_unique_id']\n",
    "# Join with larger table which returns only customers with repeted purchases\n",
    "customers_with_repeted_purchases = df_with_customers.merge(unique_customers, on='customer_unique_id')"
   ]
  },
  {
   "cell_type": "code",
   "execution_count": 30,
   "id": "fc9bb69e",
   "metadata": {},
   "outputs": [
    {
     "data": {
      "text/plain": [
       "2977"
      ]
     },
     "execution_count": 30,
     "metadata": {},
     "output_type": "execute_result"
    }
   ],
   "source": [
    "count_total_customers_with_repeted_purchases = customers_with_repeted_purchases.customer_unique_id.nunique()\n",
    "count_total_customers_with_repeted_purchases"
   ]
  },
  {
   "cell_type": "code",
   "execution_count": 31,
   "id": "a29c932b",
   "metadata": {},
   "outputs": [
    {
     "data": {
      "text/plain": [
       "1339758.61"
      ]
     },
     "execution_count": 31,
     "metadata": {},
     "output_type": "execute_result"
    }
   ],
   "source": [
    "revenue_from_customers_with_repeted_purchases = customers_with_repeted_purchases\\\n",
    "[customers_with_repeted_purchases.payment_value != np.nan].payment_value.sum()\n",
    "round(revenue_from_customers_with_repeted_purchases, 2)"
   ]
  },
  {
   "cell_type": "code",
   "execution_count": 32,
   "id": "f1f3fe6e",
   "metadata": {},
   "outputs": [
    {
     "data": {
      "text/plain": [
       "8.54"
      ]
     },
     "execution_count": 32,
     "metadata": {},
     "output_type": "execute_result"
    }
   ],
   "source": [
    "percentage_revenue_for_customers_with_repeted_purchases = (revenue_from_customers_with_repeted_purchases/total_revenue)*100\n",
    "round(percentage_revenue_for_customers_with_repeted_purchases, 2)"
   ]
  },
  {
   "cell_type": "markdown",
   "id": "f021ab1a",
   "metadata": {},
   "source": [
    "### Insight\n",
    "\n",
    "There is urgent need to take action to increase customers with repeted purchase since the churn rate is high."
   ]
  },
  {
   "cell_type": "markdown",
   "id": "a25250da",
   "metadata": {},
   "source": [
    "## 8: What is the average customer rating for products sold on Olist, and how does this impact sales performance?"
   ]
  },
  {
   "cell_type": "code",
   "execution_count": 33,
   "id": "b91e76c8",
   "metadata": {
    "scrolled": true
   },
   "outputs": [],
   "source": [
    "# Join review dataset to the big table to provide review data\n",
    "order_items_product_payment_reviews = order_items_product_payment.merge(order_reviews, on='order_id', how='left')"
   ]
  },
  {
   "cell_type": "code",
   "execution_count": 34,
   "id": "9107c0de",
   "metadata": {},
   "outputs": [
    {
     "data": {
      "text/plain": [
       "4.02"
      ]
     },
     "execution_count": 34,
     "metadata": {},
     "output_type": "execute_result"
    }
   ],
   "source": [
    "general_average_rating = order_items_product_payment_reviews.review_score.mean()\n",
    "round(general_average_rating,2)"
   ]
  },
  {
   "cell_type": "code",
   "execution_count": 35,
   "id": "f42b4d79",
   "metadata": {
    "scrolled": true
   },
   "outputs": [
    {
     "data": {
      "text/html": [
       "<div>\n",
       "<style scoped>\n",
       "    .dataframe tbody tr th:only-of-type {\n",
       "        vertical-align: middle;\n",
       "    }\n",
       "\n",
       "    .dataframe tbody tr th {\n",
       "        vertical-align: top;\n",
       "    }\n",
       "\n",
       "    .dataframe thead th {\n",
       "        text-align: right;\n",
       "    }\n",
       "</style>\n",
       "<table border=\"1\" class=\"dataframe\">\n",
       "  <thead>\n",
       "    <tr style=\"text-align: right;\">\n",
       "      <th></th>\n",
       "      <th>rating</th>\n",
       "      <th>No_of_orders</th>\n",
       "    </tr>\n",
       "    <tr>\n",
       "      <th>product_category_name_english</th>\n",
       "      <th></th>\n",
       "      <th></th>\n",
       "    </tr>\n",
       "  </thead>\n",
       "  <tbody>\n",
       "    <tr>\n",
       "      <th>bed_bath_table</th>\n",
       "      <td>3.867384</td>\n",
       "      <td>11982</td>\n",
       "    </tr>\n",
       "    <tr>\n",
       "      <th>health_beauty</th>\n",
       "      <td>4.123747</td>\n",
       "      <td>9980</td>\n",
       "    </tr>\n",
       "    <tr>\n",
       "      <th>sports_leisure</th>\n",
       "      <td>4.093145</td>\n",
       "      <td>8986</td>\n",
       "    </tr>\n",
       "    <tr>\n",
       "      <th>furniture_decor</th>\n",
       "      <td>3.897269</td>\n",
       "      <td>8751</td>\n",
       "    </tr>\n",
       "    <tr>\n",
       "      <th>computers_accessories</th>\n",
       "      <td>3.929125</td>\n",
       "      <td>8127</td>\n",
       "    </tr>\n",
       "    <tr>\n",
       "      <th>housewares</th>\n",
       "      <td>4.046824</td>\n",
       "      <td>7368</td>\n",
       "    </tr>\n",
       "    <tr>\n",
       "      <th>watches_gifts</th>\n",
       "      <td>4.000644</td>\n",
       "      <td>6208</td>\n",
       "    </tr>\n",
       "    <tr>\n",
       "      <th>telephony</th>\n",
       "      <td>3.939130</td>\n",
       "      <td>4715</td>\n",
       "    </tr>\n",
       "    <tr>\n",
       "      <th>garden_tools</th>\n",
       "      <td>4.011123</td>\n",
       "      <td>4585</td>\n",
       "    </tr>\n",
       "    <tr>\n",
       "      <th>auto</th>\n",
       "      <td>4.042160</td>\n",
       "      <td>4388</td>\n",
       "    </tr>\n",
       "  </tbody>\n",
       "</table>\n",
       "</div>"
      ],
      "text/plain": [
       "                                 rating  No_of_orders\n",
       "product_category_name_english                        \n",
       "bed_bath_table                 3.867384         11982\n",
       "health_beauty                  4.123747          9980\n",
       "sports_leisure                 4.093145          8986\n",
       "furniture_decor                3.897269          8751\n",
       "computers_accessories          3.929125          8127\n",
       "housewares                     4.046824          7368\n",
       "watches_gifts                  4.000644          6208\n",
       "telephony                      3.939130          4715\n",
       "garden_tools                   4.011123          4585\n",
       "auto                           4.042160          4388"
      ]
     },
     "execution_count": 35,
     "metadata": {},
     "output_type": "execute_result"
    }
   ],
   "source": [
    "average_rating_by_products = order_items_product_payment_reviews.groupby('product_category_name_english').agg(rating = (\"review_score\",'mean'), No_of_orders = (\"order_id\",\"count\"))\n",
    "average_rating_by_products.sort_values('No_of_orders', ascending=False).head(10)"
   ]
  },
  {
   "cell_type": "markdown",
   "id": "fbc827dd",
   "metadata": {},
   "source": [
    "### Insight\n",
    "\n",
    "The table shows that the top performing products by sales volumn had an average rating close to the average rating of 4.02 indicating a generaly good performance."
   ]
  },
  {
   "cell_type": "markdown",
   "id": "3fb29173",
   "metadata": {},
   "source": [
    "## 9: What is the average order cancellation rate on Olist, and how does this impact sales performance?"
   ]
  },
  {
   "cell_type": "code",
   "execution_count": 36,
   "id": "254a4d94",
   "metadata": {},
   "outputs": [
    {
     "data": {
      "text/plain": [
       "99112"
      ]
     },
     "execution_count": 36,
     "metadata": {},
     "output_type": "execute_result"
    }
   ],
   "source": [
    "total_order_count = orders.order_id.count()\n",
    "total_order_count"
   ]
  },
  {
   "cell_type": "code",
   "execution_count": 37,
   "id": "73cadb91",
   "metadata": {},
   "outputs": [
    {
     "data": {
      "text/plain": [
       "599"
      ]
     },
     "execution_count": 37,
     "metadata": {},
     "output_type": "execute_result"
    }
   ],
   "source": [
    "cancelation_count = orders[orders.order_status == 'canceled'].order_status.count()\n",
    "cancelation_count"
   ]
  },
  {
   "cell_type": "code",
   "execution_count": 38,
   "id": "d11aa4d8",
   "metadata": {},
   "outputs": [
    {
     "data": {
      "text/plain": [
       "0.6"
      ]
     },
     "execution_count": 38,
     "metadata": {},
     "output_type": "execute_result"
    }
   ],
   "source": [
    "cancelation_rate = round((cancelation_count/total_order_count)*100, 2)\n",
    "cancelation_rate"
   ]
  },
  {
   "cell_type": "markdown",
   "id": "b99456b0",
   "metadata": {},
   "source": [
    "### Insight\n",
    "\n",
    "The cancelation rate is 0.6% which is impressively low."
   ]
  },
  {
   "cell_type": "markdown",
   "id": "b4f9772a",
   "metadata": {},
   "source": [
    "## 10: What are the top-selling products on Olist, and how have their sales trends changed over time?"
   ]
  },
  {
   "cell_type": "code",
   "execution_count": 39,
   "id": "e0cabd32",
   "metadata": {
    "scrolled": true
   },
   "outputs": [
    {
     "data": {
      "text/html": [
       "<div>\n",
       "<style scoped>\n",
       "    .dataframe tbody tr th:only-of-type {\n",
       "        vertical-align: middle;\n",
       "    }\n",
       "\n",
       "    .dataframe tbody tr th {\n",
       "        vertical-align: top;\n",
       "    }\n",
       "\n",
       "    .dataframe thead th {\n",
       "        text-align: right;\n",
       "    }\n",
       "</style>\n",
       "<table border=\"1\" class=\"dataframe\">\n",
       "  <thead>\n",
       "    <tr style=\"text-align: right;\">\n",
       "      <th></th>\n",
       "      <th>count_</th>\n",
       "    </tr>\n",
       "    <tr>\n",
       "      <th>product_category_name_english</th>\n",
       "      <th></th>\n",
       "    </tr>\n",
       "  </thead>\n",
       "  <tbody>\n",
       "    <tr>\n",
       "      <th>bed_bath_table</th>\n",
       "      <td>11982</td>\n",
       "    </tr>\n",
       "    <tr>\n",
       "      <th>health_beauty</th>\n",
       "      <td>9980</td>\n",
       "    </tr>\n",
       "    <tr>\n",
       "      <th>sports_leisure</th>\n",
       "      <td>8986</td>\n",
       "    </tr>\n",
       "    <tr>\n",
       "      <th>furniture_decor</th>\n",
       "      <td>8751</td>\n",
       "    </tr>\n",
       "    <tr>\n",
       "      <th>computers_accessories</th>\n",
       "      <td>8127</td>\n",
       "    </tr>\n",
       "  </tbody>\n",
       "</table>\n",
       "</div>"
      ],
      "text/plain": [
       "                               count_\n",
       "product_category_name_english        \n",
       "bed_bath_table                  11982\n",
       "health_beauty                    9980\n",
       "sports_leisure                   8986\n",
       "furniture_decor                  8751\n",
       "computers_accessories            8127"
      ]
     },
     "execution_count": 39,
     "metadata": {},
     "output_type": "execute_result"
    }
   ],
   "source": [
    "top_selling_products = order_items_product_payment_reviews.groupby('product_category_name_english').\\\n",
    "agg(count_ = (\"order_id\",'count')).sort_values(\"count_\", ascending=False)\n",
    "top_selling_products.head(5)"
   ]
  },
  {
   "cell_type": "code",
   "execution_count": 40,
   "id": "867db499",
   "metadata": {},
   "outputs": [
    {
     "data": {
      "text/plain": [
       "year  month\n",
       "2017  1                                furniture_decor\n",
       "      2                                furniture_decor\n",
       "      3                                furniture_decor\n",
       "      4                                 bed_bath_table\n",
       "      5                                 bed_bath_table\n",
       "      6                                 bed_bath_table\n",
       "      7                                 bed_bath_table\n",
       "      8                                 bed_bath_table\n",
       "      9                                 bed_bath_table\n",
       "      10                                bed_bath_table\n",
       "      11                                bed_bath_table\n",
       "      12                                bed_bath_table\n",
       "2018  1                                 bed_bath_table\n",
       "      2                          computers_accessories\n",
       "      3                                 bed_bath_table\n",
       "      4                                 bed_bath_table\n",
       "      5                                  health_beauty\n",
       "      6                                  health_beauty\n",
       "      7                                  health_beauty\n",
       "      8                                  health_beauty\n",
       "      9        kitchen_dining_laundry_garden_furniture\n",
       "Name: product_category_name_english, dtype: object"
      ]
     },
     "execution_count": 40,
     "metadata": {},
     "output_type": "execute_result"
    }
   ],
   "source": [
    "top_selling_products_over_time = order_items_product_payment_reviews.\\\n",
    "groupby(['year', 'month'])['product_category_name_english'].agg(lambda x:x.value_counts().idxmax())\n",
    "\n",
    "top_selling_products_over_time"
   ]
  },
  {
   "cell_type": "markdown",
   "id": "d43c6df6",
   "metadata": {},
   "source": [
    "### Insight\n",
    "\n",
    "The above table shows that during the years in review, the top selling product was sheared by the top 5 selling products during different months with bed_bath_table being top most of the time in 2017 and health_beauty being top mostly in 2018."
   ]
  },
  {
   "cell_type": "markdown",
   "id": "9d30d696",
   "metadata": {},
   "source": [
    "## 11: Which payment methods are most commonly used by Olist customers, and how does this vary by product category or geographic region?"
   ]
  },
  {
   "cell_type": "code",
   "execution_count": 41,
   "id": "882f0059",
   "metadata": {},
   "outputs": [],
   "source": [
    "# Add customer data to the big table to provide more custoer specific data\n",
    "order_items_product_payment_reviews_customers= (order_items_product_payment_reviews.merge(customers, on = 'customer_id', how = 'left'))"
   ]
  },
  {
   "cell_type": "code",
   "execution_count": 42,
   "id": "71670209",
   "metadata": {},
   "outputs": [
    {
     "data": {
      "text/html": [
       "<div>\n",
       "<style scoped>\n",
       "    .dataframe tbody tr th:only-of-type {\n",
       "        vertical-align: middle;\n",
       "    }\n",
       "\n",
       "    .dataframe tbody tr th {\n",
       "        vertical-align: top;\n",
       "    }\n",
       "\n",
       "    .dataframe thead th {\n",
       "        text-align: right;\n",
       "    }\n",
       "</style>\n",
       "<table border=\"1\" class=\"dataframe\">\n",
       "  <thead>\n",
       "    <tr style=\"text-align: right;\">\n",
       "      <th></th>\n",
       "      <th>No_of_customers</th>\n",
       "    </tr>\n",
       "    <tr>\n",
       "      <th>payment_type</th>\n",
       "      <th></th>\n",
       "    </tr>\n",
       "  </thead>\n",
       "  <tbody>\n",
       "    <tr>\n",
       "      <th>credit_card</th>\n",
       "      <td>86971</td>\n",
       "    </tr>\n",
       "    <tr>\n",
       "      <th>boleto</th>\n",
       "      <td>22947</td>\n",
       "    </tr>\n",
       "    <tr>\n",
       "      <th>voucher</th>\n",
       "      <td>6310</td>\n",
       "    </tr>\n",
       "    <tr>\n",
       "      <th>debit_card</th>\n",
       "      <td>1697</td>\n",
       "    </tr>\n",
       "  </tbody>\n",
       "</table>\n",
       "</div>"
      ],
      "text/plain": [
       "              No_of_customers\n",
       "payment_type                 \n",
       "credit_card             86971\n",
       "boleto                  22947\n",
       "voucher                  6310\n",
       "debit_card               1697"
      ]
     },
     "execution_count": 42,
     "metadata": {},
     "output_type": "execute_result"
    }
   ],
   "source": [
    "common_payment_methods = order_items_product_payment_reviews_customers.groupby(['payment_type']).\\\n",
    "agg(No_of_customers = ('customer_id','count'))\n",
    "common_payment_methods.sort_values('No_of_customers', ascending = False)"
   ]
  },
  {
   "cell_type": "code",
   "execution_count": 43,
   "id": "81bf7af2",
   "metadata": {},
   "outputs": [
    {
     "data": {
      "text/plain": [
       "product_category_name_english\n",
       "agro_industry_and_commerce         credit_card\n",
       "air_conditioning                   credit_card\n",
       "art                                credit_card\n",
       "arts_and_craftmanship              credit_card\n",
       "audio                              credit_card\n",
       "auto                               credit_card\n",
       "baby                               credit_card\n",
       "bed_bath_table                     credit_card\n",
       "books_general_interest             credit_card\n",
       "books_imported                     credit_card\n",
       "books_technical                    credit_card\n",
       "cds_dvds_musicals                  credit_card\n",
       "christmas_supplies                 credit_card\n",
       "cine_photo                         credit_card\n",
       "computers                          credit_card\n",
       "computers_accessories              credit_card\n",
       "consoles_games                     credit_card\n",
       "construction_tools_construction    credit_card\n",
       "construction_tools_lights          credit_card\n",
       "construction_tools_safety          credit_card\n",
       "cool_stuff                         credit_card\n",
       "costruction_tools_garden           credit_card\n",
       "costruction_tools_tools            credit_card\n",
       "diapers_and_hygiene                credit_card\n",
       "drinks                             credit_card\n",
       "dvds_blu_ray                       credit_card\n",
       "electronics                        credit_card\n",
       "fashio_female_clothing             credit_card\n",
       "fashion_bags_accessories           credit_card\n",
       "fashion_childrens_clothes          credit_card\n",
       "Name: payment_type, dtype: object"
      ]
     },
     "execution_count": 43,
     "metadata": {},
     "output_type": "execute_result"
    }
   ],
   "source": [
    "common_payment_methods_by_product_cat = order_items_product_payment_reviews_customers.groupby(['product_category_name_english'])['payment_type'].agg(lambda x:x.value_counts().idxmax())\n",
    "common_payment_methods_by_product_cat.head(30)"
   ]
  },
  {
   "cell_type": "code",
   "execution_count": 44,
   "id": "0827021a",
   "metadata": {
    "scrolled": false
   },
   "outputs": [
    {
     "data": {
      "text/plain": [
       "customer_state\n",
       "AC    credit_card\n",
       "AL    credit_card\n",
       "AM    credit_card\n",
       "AP    credit_card\n",
       "BA    credit_card\n",
       "CE    credit_card\n",
       "DF    credit_card\n",
       "ES    credit_card\n",
       "GO    credit_card\n",
       "MA    credit_card\n",
       "MG    credit_card\n",
       "MS    credit_card\n",
       "MT    credit_card\n",
       "PA    credit_card\n",
       "PB    credit_card\n",
       "PE    credit_card\n",
       "PI    credit_card\n",
       "PR    credit_card\n",
       "RJ    credit_card\n",
       "RN    credit_card\n",
       "RO    credit_card\n",
       "RR    credit_card\n",
       "RS    credit_card\n",
       "SC    credit_card\n",
       "SE    credit_card\n",
       "SP    credit_card\n",
       "TO    credit_card\n",
       "Name: payment_type, dtype: object"
      ]
     },
     "execution_count": 44,
     "metadata": {},
     "output_type": "execute_result"
    }
   ],
   "source": [
    "common_payment_methods_by_state = order_items_product_payment_reviews_customers.groupby(['customer_state'])['payment_type'].agg(lambda x:x.value_counts().idxmax())\n",
    "common_payment_methods_by_state"
   ]
  },
  {
   "cell_type": "markdown",
   "id": "b7e86b0e",
   "metadata": {},
   "source": [
    "### Insight\n",
    "\n",
    "It can be seen that most customers pay by credit card across both product category and state."
   ]
  },
  {
   "cell_type": "markdown",
   "id": "d07c1489",
   "metadata": {},
   "source": [
    "## 12: How do customer reviews and ratings affect sales and product performance on Olist?"
   ]
  },
  {
   "cell_type": "markdown",
   "id": "5f479264",
   "metadata": {},
   "source": [
    "This question has already been answered in No 8 above"
   ]
  },
  {
   "cell_type": "markdown",
   "id": "d8746911",
   "metadata": {},
   "source": [
    "## 13: Which product categories have the highest profit margins on Olist, and how can the company increase profitability across different categories?"
   ]
  },
  {
   "cell_type": "markdown",
   "id": "b30ce7ad",
   "metadata": {},
   "source": [
    "No sufficient data to answer this question"
   ]
  },
  {
   "cell_type": "markdown",
   "id": "c7bc4121",
   "metadata": {},
   "source": [
    "## 14: How does Olist's marketing spend and channel mix impact sales and customer acquisition costs, and how can the company optimize its marketing strategy to increase ROI?"
   ]
  },
  {
   "cell_type": "markdown",
   "id": "838199b6",
   "metadata": {},
   "source": [
    "No sufficient Data to answer this question"
   ]
  },
  {
   "cell_type": "markdown",
   "id": "854a73c5",
   "metadata": {},
   "source": [
    "## 15: Geolocation having high customer density. Calculate customer retention rate according to geolocations"
   ]
  },
  {
   "cell_type": "code",
   "execution_count": 45,
   "id": "e495b406",
   "metadata": {
    "scrolled": true
   },
   "outputs": [
    {
     "data": {
      "text/html": [
       "<div>\n",
       "<style scoped>\n",
       "    .dataframe tbody tr th:only-of-type {\n",
       "        vertical-align: middle;\n",
       "    }\n",
       "\n",
       "    .dataframe tbody tr th {\n",
       "        vertical-align: top;\n",
       "    }\n",
       "\n",
       "    .dataframe thead th {\n",
       "        text-align: right;\n",
       "    }\n",
       "</style>\n",
       "<table border=\"1\" class=\"dataframe\">\n",
       "  <thead>\n",
       "    <tr style=\"text-align: right;\">\n",
       "      <th></th>\n",
       "      <th></th>\n",
       "      <th>No_of_customers</th>\n",
       "    </tr>\n",
       "    <tr>\n",
       "      <th>customer_state</th>\n",
       "      <th>customer_city</th>\n",
       "      <th></th>\n",
       "    </tr>\n",
       "  </thead>\n",
       "  <tbody>\n",
       "    <tr>\n",
       "      <th>SP</th>\n",
       "      <th>sao paulo</th>\n",
       "      <td>18686</td>\n",
       "    </tr>\n",
       "    <tr>\n",
       "      <th>RJ</th>\n",
       "      <th>rio de janeiro</th>\n",
       "      <td>8214</td>\n",
       "    </tr>\n",
       "    <tr>\n",
       "      <th>MG</th>\n",
       "      <th>belo horizonte</th>\n",
       "      <td>3255</td>\n",
       "    </tr>\n",
       "    <tr>\n",
       "      <th>DF</th>\n",
       "      <th>brasilia</th>\n",
       "      <td>2476</td>\n",
       "    </tr>\n",
       "    <tr>\n",
       "      <th>PR</th>\n",
       "      <th>curitiba</th>\n",
       "      <td>1804</td>\n",
       "    </tr>\n",
       "    <tr>\n",
       "      <th>SP</th>\n",
       "      <th>campinas</th>\n",
       "      <td>1732</td>\n",
       "    </tr>\n",
       "    <tr>\n",
       "      <th>RS</th>\n",
       "      <th>porto alegre</th>\n",
       "      <td>1660</td>\n",
       "    </tr>\n",
       "    <tr>\n",
       "      <th>BA</th>\n",
       "      <th>salvador</th>\n",
       "      <td>1537</td>\n",
       "    </tr>\n",
       "    <tr>\n",
       "      <th rowspan=\"2\" valign=\"top\">SP</th>\n",
       "      <th>guarulhos</th>\n",
       "      <td>1403</td>\n",
       "    </tr>\n",
       "    <tr>\n",
       "      <th>sao bernardo do campo</th>\n",
       "      <td>1118</td>\n",
       "    </tr>\n",
       "  </tbody>\n",
       "</table>\n",
       "</div>"
      ],
      "text/plain": [
       "                                      No_of_customers\n",
       "customer_state customer_city                         \n",
       "SP             sao paulo                        18686\n",
       "RJ             rio de janeiro                    8214\n",
       "MG             belo horizonte                    3255\n",
       "DF             brasilia                          2476\n",
       "PR             curitiba                          1804\n",
       "SP             campinas                          1732\n",
       "RS             porto alegre                      1660\n",
       "BA             salvador                          1537\n",
       "SP             guarulhos                         1403\n",
       "               sao bernardo do campo             1118"
      ]
     },
     "execution_count": 45,
     "metadata": {},
     "output_type": "execute_result"
    }
   ],
   "source": [
    "order_items_product_payment_reviews_customers.groupby(['customer_state', 'customer_city']).\\\n",
    "agg(No_of_customers = ('customer_id','count')).sort_values('No_of_customers', ascending = False).head(10)"
   ]
  },
  {
   "cell_type": "code",
   "execution_count": 46,
   "id": "33660011",
   "metadata": {
    "scrolled": true
   },
   "outputs": [],
   "source": [
    "# Streamline the table to only relevant columns\n",
    "customer_date_and_geo_data = order_items_product_payment_reviews_customers[\n",
    "    ['customer_id','customer_unique_id', 'customer_state', 'year']]\n",
    "# Get customers that made puchases in 2017 and 2018 seperately\n",
    "customers_2017 = customer_date_and_geo_data[customer_date_and_geo_data.year == 2017].groupby('customer_unique_id')\\\n",
    "['customer_id'].count().to_frame().reset_index()\n",
    "customers_2018 = customer_date_and_geo_data[customer_date_and_geo_data.year == 2018].groupby('customer_unique_id')\\\n",
    "['customer_id'].count().to_frame().reset_index()\n",
    "# Combine them to get retained customers\n",
    "retained_customers = customers_2018.merge(customers_2017, on = 'customer_unique_id')\n",
    "# Combine with other customer data to get other relevant data of retained customers\n",
    "customer_date_and_geo_data_ = customer_date_and_geo_data.merge(retained_customers, on = 'customer_unique_id')\n",
    "# Group by state to get number of retained customers in each state\n",
    "retained_cosumer_location = customer_date_and_geo_data_.groupby(['customer_state'])\\\n",
    "['customer_id'].count().to_frame().reset_index()\n",
    "# Group by state to get overall customers in each state\n",
    "current_consumer_locations = customer_date_and_geo_data.groupby(['customer_state'])\\\n",
    "['customer_id'].count().to_frame().reset_index()\n",
    "# Combine to have both data in one table\n",
    "consumer_location_data = current_consumer_locations.\\\n",
    "merge(retained_cosumer_location, on = 'customer_state', how = 'left')\n",
    "# Rename some columns\n",
    "consumer_location_data = consumer_location_data.\\\n",
    "rename(columns = {'customer_id_x':'all_customers', 'customer_id_y':'retained_customers'})\n",
    "# Fill Nan values with 0\n",
    "consumer_location_data = consumer_location_data.fillna(0)"
   ]
  },
  {
   "cell_type": "code",
   "execution_count": 47,
   "id": "e99fb379",
   "metadata": {},
   "outputs": [
    {
     "data": {
      "text/html": [
       "<div>\n",
       "<style scoped>\n",
       "    .dataframe tbody tr th:only-of-type {\n",
       "        vertical-align: middle;\n",
       "    }\n",
       "\n",
       "    .dataframe tbody tr th {\n",
       "        vertical-align: top;\n",
       "    }\n",
       "\n",
       "    .dataframe thead th {\n",
       "        text-align: right;\n",
       "    }\n",
       "</style>\n",
       "<table border=\"1\" class=\"dataframe\">\n",
       "  <thead>\n",
       "    <tr style=\"text-align: right;\">\n",
       "      <th></th>\n",
       "      <th>customer_state</th>\n",
       "      <th>all_customers</th>\n",
       "      <th>retained_customers</th>\n",
       "      <th>retention_rate</th>\n",
       "    </tr>\n",
       "  </thead>\n",
       "  <tbody>\n",
       "    <tr>\n",
       "      <th>2</th>\n",
       "      <td>AM</td>\n",
       "      <td>172</td>\n",
       "      <td>9.0</td>\n",
       "      <td>5.23</td>\n",
       "    </tr>\n",
       "    <tr>\n",
       "      <th>20</th>\n",
       "      <td>RO</td>\n",
       "      <td>286</td>\n",
       "      <td>14.0</td>\n",
       "      <td>4.90</td>\n",
       "    </tr>\n",
       "    <tr>\n",
       "      <th>0</th>\n",
       "      <td>AC</td>\n",
       "      <td>95</td>\n",
       "      <td>4.0</td>\n",
       "      <td>4.21</td>\n",
       "    </tr>\n",
       "    <tr>\n",
       "      <th>9</th>\n",
       "      <td>MA</td>\n",
       "      <td>840</td>\n",
       "      <td>27.0</td>\n",
       "      <td>3.21</td>\n",
       "    </tr>\n",
       "    <tr>\n",
       "      <th>24</th>\n",
       "      <td>SE</td>\n",
       "      <td>394</td>\n",
       "      <td>11.0</td>\n",
       "      <td>2.79</td>\n",
       "    </tr>\n",
       "    <tr>\n",
       "      <th>26</th>\n",
       "      <td>TO</td>\n",
       "      <td>339</td>\n",
       "      <td>8.0</td>\n",
       "      <td>2.36</td>\n",
       "    </tr>\n",
       "    <tr>\n",
       "      <th>15</th>\n",
       "      <td>PE</td>\n",
       "      <td>1896</td>\n",
       "      <td>36.0</td>\n",
       "      <td>1.90</td>\n",
       "    </tr>\n",
       "    <tr>\n",
       "      <th>18</th>\n",
       "      <td>RJ</td>\n",
       "      <td>15361</td>\n",
       "      <td>290.0</td>\n",
       "      <td>1.89</td>\n",
       "    </tr>\n",
       "    <tr>\n",
       "      <th>25</th>\n",
       "      <td>SP</td>\n",
       "      <td>49737</td>\n",
       "      <td>892.0</td>\n",
       "      <td>1.79</td>\n",
       "    </tr>\n",
       "    <tr>\n",
       "      <th>10</th>\n",
       "      <td>MG</td>\n",
       "      <td>13665</td>\n",
       "      <td>220.0</td>\n",
       "      <td>1.61</td>\n",
       "    </tr>\n",
       "    <tr>\n",
       "      <th>22</th>\n",
       "      <td>RS</td>\n",
       "      <td>6512</td>\n",
       "      <td>105.0</td>\n",
       "      <td>1.61</td>\n",
       "    </tr>\n",
       "    <tr>\n",
       "      <th>8</th>\n",
       "      <td>GO</td>\n",
       "      <td>2444</td>\n",
       "      <td>36.0</td>\n",
       "      <td>1.47</td>\n",
       "    </tr>\n",
       "    <tr>\n",
       "      <th>13</th>\n",
       "      <td>PA</td>\n",
       "      <td>1118</td>\n",
       "      <td>16.0</td>\n",
       "      <td>1.43</td>\n",
       "    </tr>\n",
       "    <tr>\n",
       "      <th>17</th>\n",
       "      <td>PR</td>\n",
       "      <td>5956</td>\n",
       "      <td>83.0</td>\n",
       "      <td>1.39</td>\n",
       "    </tr>\n",
       "    <tr>\n",
       "      <th>23</th>\n",
       "      <td>SC</td>\n",
       "      <td>4305</td>\n",
       "      <td>58.0</td>\n",
       "      <td>1.35</td>\n",
       "    </tr>\n",
       "    <tr>\n",
       "      <th>7</th>\n",
       "      <td>ES</td>\n",
       "      <td>2347</td>\n",
       "      <td>29.0</td>\n",
       "      <td>1.24</td>\n",
       "    </tr>\n",
       "    <tr>\n",
       "      <th>14</th>\n",
       "      <td>PB</td>\n",
       "      <td>639</td>\n",
       "      <td>7.0</td>\n",
       "      <td>1.10</td>\n",
       "    </tr>\n",
       "    <tr>\n",
       "      <th>6</th>\n",
       "      <td>DF</td>\n",
       "      <td>2492</td>\n",
       "      <td>27.0</td>\n",
       "      <td>1.08</td>\n",
       "    </tr>\n",
       "    <tr>\n",
       "      <th>4</th>\n",
       "      <td>BA</td>\n",
       "      <td>4065</td>\n",
       "      <td>43.0</td>\n",
       "      <td>1.06</td>\n",
       "    </tr>\n",
       "    <tr>\n",
       "      <th>19</th>\n",
       "      <td>RN</td>\n",
       "      <td>566</td>\n",
       "      <td>5.0</td>\n",
       "      <td>0.88</td>\n",
       "    </tr>\n",
       "    <tr>\n",
       "      <th>5</th>\n",
       "      <td>CE</td>\n",
       "      <td>1549</td>\n",
       "      <td>11.0</td>\n",
       "      <td>0.71</td>\n",
       "    </tr>\n",
       "    <tr>\n",
       "      <th>16</th>\n",
       "      <td>PI</td>\n",
       "      <td>573</td>\n",
       "      <td>4.0</td>\n",
       "      <td>0.70</td>\n",
       "    </tr>\n",
       "    <tr>\n",
       "      <th>12</th>\n",
       "      <td>MT</td>\n",
       "      <td>1125</td>\n",
       "      <td>7.0</td>\n",
       "      <td>0.62</td>\n",
       "    </tr>\n",
       "    <tr>\n",
       "      <th>1</th>\n",
       "      <td>AL</td>\n",
       "      <td>460</td>\n",
       "      <td>2.0</td>\n",
       "      <td>0.43</td>\n",
       "    </tr>\n",
       "    <tr>\n",
       "      <th>11</th>\n",
       "      <td>MS</td>\n",
       "      <td>856</td>\n",
       "      <td>1.0</td>\n",
       "      <td>0.12</td>\n",
       "    </tr>\n",
       "    <tr>\n",
       "      <th>21</th>\n",
       "      <td>RR</td>\n",
       "      <td>49</td>\n",
       "      <td>0.0</td>\n",
       "      <td>0.00</td>\n",
       "    </tr>\n",
       "    <tr>\n",
       "      <th>3</th>\n",
       "      <td>AP</td>\n",
       "      <td>84</td>\n",
       "      <td>0.0</td>\n",
       "      <td>0.00</td>\n",
       "    </tr>\n",
       "  </tbody>\n",
       "</table>\n",
       "</div>"
      ],
      "text/plain": [
       "   customer_state  all_customers  retained_customers  retention_rate\n",
       "2              AM            172                 9.0            5.23\n",
       "20             RO            286                14.0            4.90\n",
       "0              AC             95                 4.0            4.21\n",
       "9              MA            840                27.0            3.21\n",
       "24             SE            394                11.0            2.79\n",
       "26             TO            339                 8.0            2.36\n",
       "15             PE           1896                36.0            1.90\n",
       "18             RJ          15361               290.0            1.89\n",
       "25             SP          49737               892.0            1.79\n",
       "10             MG          13665               220.0            1.61\n",
       "22             RS           6512               105.0            1.61\n",
       "8              GO           2444                36.0            1.47\n",
       "13             PA           1118                16.0            1.43\n",
       "17             PR           5956                83.0            1.39\n",
       "23             SC           4305                58.0            1.35\n",
       "7              ES           2347                29.0            1.24\n",
       "14             PB            639                 7.0            1.10\n",
       "6              DF           2492                27.0            1.08\n",
       "4              BA           4065                43.0            1.06\n",
       "19             RN            566                 5.0            0.88\n",
       "5              CE           1549                11.0            0.71\n",
       "16             PI            573                 4.0            0.70\n",
       "12             MT           1125                 7.0            0.62\n",
       "1              AL            460                 2.0            0.43\n",
       "11             MS            856                 1.0            0.12\n",
       "21             RR             49                 0.0            0.00\n",
       "3              AP             84                 0.0            0.00"
      ]
     },
     "execution_count": 47,
     "metadata": {},
     "output_type": "execute_result"
    }
   ],
   "source": [
    "# Create new column to calculate the retention rate then sort in decending order of retention rate\n",
    "consumer_location_data['retention_rate'] = round(\n",
    "    (consumer_location_data.retained_customers/consumer_location_data.all_customers)*100,2)\n",
    "consumer_location_data.sort_values('retention_rate', ascending = False)"
   ]
  },
  {
   "cell_type": "markdown",
   "id": "2ee1e5aa",
   "metadata": {},
   "source": [
    "### Insight\n",
    "\n",
    "It can be seen that the top three states by retention rate are, AM, RO anc AC, though they do not have a high number of customers. Effort shold be made to improve customer retention in states with very high number of customers like SP, RJ and MG."
   ]
  }
 ],
 "metadata": {
  "kernelspec": {
   "display_name": "Python 3 (ipykernel)",
   "language": "python",
   "name": "python3"
  },
  "language_info": {
   "codemirror_mode": {
    "name": "ipython",
    "version": 3
   },
   "file_extension": ".py",
   "mimetype": "text/x-python",
   "name": "python",
   "nbconvert_exporter": "python",
   "pygments_lexer": "ipython3",
   "version": "3.9.12"
  },
  "toc-autonumbering": false,
  "toc-showcode": false,
  "toc-showmarkdowntxt": false,
  "toc-showtags": true,
  "vscode": {
   "interpreter": {
    "hash": "a077222d77dfe082b8f1dd562ad70e458ac2ab76993a0b248ab0476e32e9e8dd"
   }
  }
 },
 "nbformat": 4,
 "nbformat_minor": 5
}
